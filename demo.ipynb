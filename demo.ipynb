{
 "cells": [
  {
   "cell_type": "code",
   "execution_count": null,
   "id": "d5bfbc9e-6f6e-4691-b46f-7bfa154795da",
   "metadata": {},
   "outputs": [],
   "source": [
    "%load_ext autoreload\n",
    "%autoreload 2"
   ]
  },
  {
   "cell_type": "code",
   "execution_count": null,
   "id": "44a0a9e5-ecc2-4f03-82c4-6bb355ea2703",
   "metadata": {},
   "outputs": [],
   "source": [
    "# At the beginning of the notebook\n",
    "import logging\n",
    "logging.basicConfig(level=logging.INFO)"
   ]
  },
  {
   "cell_type": "code",
   "execution_count": null,
   "id": "33336ec4-dd14-4b7f-bd0d-71209c2203c0",
   "metadata": {},
   "outputs": [],
   "source": [
    "from playwright.async_api import async_playwright\n",
    "\n",
    "p = await async_playwright().__aenter__()\n",
    "browser = await p.chromium.launch(headless=False)\n",
    "page = await browser.new_page(viewport={'width': 1280, 'height': 1000})"
   ]
  },
  {
   "cell_type": "code",
   "execution_count": null,
   "id": "4cd2d805-59c2-4178-8cf2-a789a4f7d348",
   "metadata": {},
   "outputs": [],
   "source": [
    "from boto3 import Session\n",
    "from mypy_boto3_bedrock_runtime import BedrockRuntimeClient\n",
    "\n",
    "session = Session(profile_name=\"default\", region_name=\"us-west-2\")\n",
    "bedrock_runtime: BedrockRuntimeClient = session.client(\n",
    "    service_name=\"bedrock-runtime\",\n",
    ")\n",
    "\n",
    "s3 = session.client('s3')"
   ]
  },
  {
   "cell_type": "code",
   "execution_count": null,
   "id": "66879ad9-cade-42ec-add0-8d30452e30c3",
   "metadata": {
    "scrolled": true
   },
   "outputs": [],
   "source": [
    "from webrock.browser import AsyncBrowserPage, PlaywrightBrowserPage\n",
    "from webrock.tools import ClickTool, TypeTextTool, PressKeyTool\n",
    "from webrock.core import WebrockAgentExecutor\n",
    "from webrock.bedrock import BedrockModel, ClaudeSonnet_3_5_BedrockModel\n",
    "from webrock.artifacts import S3ArtifactPublisher\n",
    "\n",
    "import webrock\n",
    "\n",
    "await page.goto(\"https://www.amazon.com\")\n",
    "\n",
    "model = ClaudeSonnet_3_5_BedrockModel(bedrock_runtime=bedrock_runtime)\n",
    "tools = [ClickTool, TypeTextTool, PressKeyTool]\n",
    "\n",
    "browser_page: AsyncBrowserPage = PlaywrightBrowserPage(page)\n",
    "\n",
    "agent = WebrockAgentExecutor(model=model, browser_page=browser_page, tools=tools)\n",
    "\n",
    "prompt = \"Search for 'bicycles', hit enter and click on one of the products. Once you reach the bicycle product page, stop\"\n",
    "actions = await agent.ainvoke(prompt, max_sequences=8)"
   ]
  },
  {
   "cell_type": "code",
   "execution_count": null,
   "id": "c35c77ee-d219-423d-9f49-ac1eac060a2b",
   "metadata": {},
   "outputs": [],
   "source": [
    "import json\n",
    "import pprint\n",
    "\n",
    "for action in actions:\n",
    "    print(action.model_dump_json(indent=4))\n",
    "    print()"
   ]
  },
  {
   "cell_type": "code",
   "execution_count": null,
   "id": "73bc4cf5-d46c-4fc2-bb4b-af1c1ec58c32",
   "metadata": {},
   "outputs": [],
   "source": [
    "await browser.close()"
   ]
  }
 ],
 "metadata": {
  "kernelspec": {
   "display_name": "Python 3 (ipykernel)",
   "language": "python",
   "name": "python3"
  },
  "language_info": {
   "codemirror_mode": {
    "name": "ipython",
    "version": 3
   },
   "file_extension": ".py",
   "mimetype": "text/x-python",
   "name": "python",
   "nbconvert_exporter": "python",
   "pygments_lexer": "ipython3",
   "version": "3.12.3"
  }
 },
 "nbformat": 4,
 "nbformat_minor": 5
}
